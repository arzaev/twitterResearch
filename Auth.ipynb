{
 "cells": [
  {
   "cell_type": "code",
   "execution_count": null,
   "id": "150c9a40",
   "metadata": {},
   "outputs": [],
   "source": [
    "import requests\n",
    "import urllib3\n",
    "urllib3.disable_warnings()\n",
    "\n",
    "ses = requests.Session()\n",
    "\n",
    "\n",
    "proxy = {'https': 'http://192.168.0.125:8080'} \n",
    "\n",
    "url = 'https://twitter.com/login'\n",
    "headers = {\n",
    "    'Host': 'twitter.com',\n",
    "    'User-Agent': 'Mozilla/5.0 (Windows NT 10.0; rv:78.0) Gecko/20100101 Firefox/78.0',\n",
    "    'Accept': 'text/html,application/xhtml+xml,application/xml;q=0.9,image/webp,*/*;q=0.8',\n",
    "    'Accept-Language': 'en-US,en;q=0.5',\n",
    "    'Accept-Encoding': 'gzip, deflate',\n",
    "    'Dnt': '1',\n",
    "    'Upgrade-Insecure-Requests': '1',\n",
    "    'Sec-Gpc': '1',\n",
    "    'Te': 'trailers',\n",
    "    'Connection': 'close',\n",
    "}\n",
    "\n",
    "ses.get(url, headers=headers, proxies=proxy, verify=False, allow_redirects=False, timeout=10)\n",
    "\n",
    "print(ses.cookies)\n"
   ]
  },
  {
   "cell_type": "code",
   "execution_count": null,
   "id": "f83db7d1",
   "metadata": {},
   "outputs": [],
   "source": []
  },
  {
   "cell_type": "code",
   "execution_count": null,
   "id": "f1496416",
   "metadata": {},
   "outputs": [],
   "source": [
    "url = 'https://twitter.com/i/js_inst?c_name=ui_metrics'\n",
    "headers = {\n",
    "    'Host': 'twitter.com',\n",
    "    'User-Agent': 'Mozilla/5.0 (Windows NT 10.0; rv:78.0) Gecko/20100101 Firefox/78.0',\n",
    "    'Accept': 'text/html,application/xhtml+xml,application/xml;q=0.9,image/webp,*/*;q=0.8',\n",
    "    'Accept-Language': 'en-US,en;q=0.5',\n",
    "    'Accept-Encoding': 'gzip, deflate',\n",
    "    'Dnt': '1',\n",
    "    'Upgrade-Insecure-Requests': '1',\n",
    "    'Sec-Gpc': '1',\n",
    "    'Te': 'trailers',\n",
    "    'Connection': 'close',\n",
    "}\n",
    "r = ses.get(url, headers=headers, proxies=proxy, verify=False, allow_redirects=False, timeout=10)"
   ]
  },
  {
   "cell_type": "code",
   "execution_count": null,
   "id": "2fd4c4f5",
   "metadata": {},
   "outputs": [],
   "source": [
    "url = 'https://twitter.com/sessions'\n",
    "auth_token = '35eb8b00ff8e11eba7e1f1b522289c7b'\n",
    "username = ''\n",
    "password = ''\n",
    "ses.cookies.set('_mb_tk', 'auth_token')\n",
    "data = \"redirect_after_login=%2F&remember_me=1&authenticity_token={}&wfa=1&ui_metrics=%7B%22rf%22%3A%7B%22a9a1956960eed0839e1ec52f76b3779f1134edca2bbcf44452121000b08425c6%22%3A-100%2C%22c20e919f0383f67aff7439210d84edc65792c4570aab57d5e88dfe552c664456%22%3A112%2C%22a8da6af62113b517d12d343c4d5f4d4b27ec3826f7dcf6922b54806404bf43b5%22%3A-1%2C%22abef8784c25d2b9df56698b39f9b08b956b61b1fb72a59113566ffa94603aee6%22%3A16%7D%2C%22s%22%3A%22XJOjmaFgtNt4GJJ1HBB7zY5mTaGWgad8U7XZ0wVZEARXgEXJLcypljSvKGqj5mBxtUewdl0HVyUTXf0jK44cppOjtuD7Iu4giS84OrlG_q7_k7daVS3ZjxuzqlYVjJaVptP12X0yt5gAqD4m-S4EebwDHw1ffGH2pkYZJr3xlbqU2rrzWosh073ONmXvlsmipBGuS3rmKyjRbgh7wz3gv9qwjvuatBSRfV4gp7w4xl3e6cBEA4AMVQx1lLZXs1jUOIK4GNknrxAYOAhwNXYJshlYLCrYTTSHMwTtbMHsKqbNa0-n1nEl2Pds4e9djJuzzJJkPpwq1nY83ZFmp6DHVQAAAXtUEQ3N%22%7D&session%5Busername_or_email%5D={}&session%5Bpassword%5D={}\".format(\n",
    "auth_token, username, password\n",
    ")\n",
    "headers = {\n",
    "    'Host': 'twitter.com',\n",
    "    'User-Agent': 'Mozilla/5.0 (Windows NT 10.0; rv:78.0) Gecko/20100101 Firefox/78.0',\n",
    "    'Accept': 'text/html,application/xhtml+xml,application/xml;q=0.9,image/webp,*/*;q=0.8',\n",
    "    'Accept-Language': 'en-US,en;q=0.5',\n",
    "    'Accept-Encoding': 'gzip, deflate',\n",
    "    'Content-Type': 'application/x-www-form-urlencoded',\n",
    "    'Content-Length': str(len(data)),\n",
    "    'Referer': 'https://twitter.com/login',\n",
    "    'Origin': 'https://twitter.com',\n",
    "    'Dnt': '1',\n",
    "    'Upgrade-Insecure-Requests': '1',\n",
    "    'Sec-Gpc': '1',\n",
    "    'Te': 'trailers',\n",
    "    'Connection': 'close',\n",
    "}\n",
    "r = ses.post(url, headers=headers, data=data, proxies=proxy, verify=False, allow_redirects=False, timeout=10)"
   ]
  },
  {
   "cell_type": "code",
   "execution_count": null,
   "id": "988c828f",
   "metadata": {},
   "outputs": [],
   "source": []
  },
  {
   "cell_type": "code",
   "execution_count": null,
   "id": "ac1cdbe2",
   "metadata": {},
   "outputs": [],
   "source": []
  }
 ],
 "metadata": {
  "kernelspec": {
   "display_name": "Python 3 (ipykernel)",
   "language": "python",
   "name": "python3"
  },
  "language_info": {
   "codemirror_mode": {
    "name": "ipython",
    "version": 3
   },
   "file_extension": ".py",
   "mimetype": "text/x-python",
   "name": "python",
   "nbconvert_exporter": "python",
   "pygments_lexer": "ipython3",
   "version": "3.9.2"
  }
 },
 "nbformat": 4,
 "nbformat_minor": 5
}
